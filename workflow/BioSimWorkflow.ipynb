{
 "cells": [
  {
   "cell_type": "markdown",
   "metadata": {},
   "source": [
    "# BioSimWorkflow\n",
    "#### An example workflow for conducting TRUE simulations.\n",
    "\n",
    "In this workflow a lipid bilayer simulation is set up, run, and analyzed in a self-contained repository. \n",
    "\n",
    "[add some stuff about the stratum corneum]\n",
    "\n",
    "The following sections are executed sequentially:\n",
    "\n",
    "[Section 1: Building the Initial Configuration](./building/building.ipynb)\n",
    "\n",
    "[Section 2: Simulating Using GROMACS](./simulation/simulation.ipynb)\n",
    "\n",
    "[Section 3: Analysis](./analysis/simulation.ipynb)"
   ]
  }
 ],
 "metadata": {
  "kernelspec": {
   "display_name": "Python 3",
   "language": "python",
   "name": "python3"
  },
  "language_info": {
   "codemirror_mode": {
    "name": "ipython",
    "version": 3
   },
   "file_extension": ".py",
   "mimetype": "text/x-python",
   "name": "python",
   "nbconvert_exporter": "python",
   "pygments_lexer": "ipython3",
   "version": "3.7.3"
  }
 },
 "nbformat": 4,
 "nbformat_minor": 2
}
