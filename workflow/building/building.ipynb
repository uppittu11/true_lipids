{
 "cells": [
  {
   "cell_type": "markdown",
   "metadata": {},
   "source": [
    "# Section I: Building the Initial Configuration\n",
    "\n",
    "The first step to simulating a lipid bilayer is generating the initial configuration. Here the `mBuild` package is used to generate a minimal stratum corneum system containing an equimolar mixture of ceramide N-hydroxy sphingosine, cholesterol, and free fatty acids. The `mBuild` software allows for the easy and reproducible construction of a preassembled bilayer with tunable parameters. This script will use the following packages:\n",
    "`{insert URLs for each of these}`\n",
    "- `numpy` \n",
    "- `mbuild`\n",
    "- `mdtraj`\n",
    "- `py3dmol`\n",
    "\n",
    "These packages are installed using `conda` in the cell below. The Anaconda software can be installed from `{insert URL}`"
   ]
  },
  {
   "cell_type": "code",
   "execution_count": null,
   "metadata": {},
   "outputs": [],
   "source": [
    "!conda install -y numpy \n",
    "!conda install -y mbuild \n",
    "!conda install -y mdtraj\n",
    "!conda install -y py3dmol"
   ]
  },
  {
   "cell_type": "markdown",
   "metadata": {},
   "source": [
    "The required modules are imported below. The `bilayer` module can be found at `./building/bilayer.py`. This contains a `python` class used to construct a bilayer `mBuild` `Compound`."
   ]
  },
  {
   "cell_type": "code",
   "execution_count": null,
   "metadata": {},
   "outputs": [],
   "source": [
    "import mbuild as mb\n",
    "import numpy as np\n",
    "import mdtraj as md\n",
    "from bilayer import Bilayer"
   ]
  },
  {
   "cell_type": "markdown",
   "metadata": {},
   "source": [
    "The configurations of each molecule type are saved as `.mol2` files. Here these compounds are loaded from disk and saved to a dictionary. "
   ]
  },
  {
   "cell_type": "code",
   "execution_count": null,
   "metadata": {},
   "outputs": [],
   "source": [
    "def load_molecule(filename):\n",
    "    \"\"\"Worker function to load the configuration of a single lipid.\"\"\"\n",
    "    lipid = mb.load(filename)\n",
    "    lipid.translate_to([0, 0, 0])\n",
    "    return lipid\n",
    "\n",
    "prototypes = dict()\n",
    "\n",
    "for molecule_name in [\"cer\", \"chol\", \"ffa\", \"tip3p\"]:\n",
    "    filename = f\"./molecules/{molecule_name}.mol2\"\n",
    "    molecule = load_molecule(filename)\n",
    "    molecule.name = molecule_name\n",
    "    prototypes.update({molecule_name : molecule})"
   ]
  },
  {
   "cell_type": "markdown",
   "metadata": {},
   "source": [
    "Below are the parameters chosen for the system being simulated. The parameter space (for example, the lipid composition and/or water content) can be easily explored further by adjusting these values."
   ]
  },
  {
   "cell_type": "code",
   "execution_count": null,
   "metadata": {},
   "outputs": [],
   "source": [
    "# Equimolar ratio of CER, CHOL, and FFA\n",
    "lipids = [(prototypes[\"cer\"], 0.33),\n",
    "          (prototypes[\"chol\"], 0.33),\n",
    "          (prototypes[\"ffa\"], 0.34)]\n",
    "\n",
    "n_lipids_per_edge = 6\n",
    "\n",
    "tilt_angle = 10 * np.pi / 180.0 # radians\n",
    "area_per_lipid = .32 # nm^2\n",
    "spacing_z = 2.8 #nm\n",
    "\n",
    "waters_per_lipid = 40\n",
    "water_density = 1.0 # g/cm^3\n",
    "water_mass = 18.01 # amu"
   ]
  },
  {
   "cell_type": "markdown",
   "metadata": {},
   "source": [
    "The bilayer system is set up using the parameters set above and saved as a GROMACS `.gro` file. "
   ]
  },
  {
   "cell_type": "code",
   "execution_count": null,
   "metadata": {},
   "outputs": [],
   "source": [
    "system = Bilayer(lipids,\n",
    "                 ref_atoms=[77, 2, 26],\n",
    "                 n_lipids_x=n_lipids_per_edge, \n",
    "                 n_lipids_y=n_lipids_per_edge,\n",
    "                 area_per_lipid=area_per_lipid,\n",
    "                 spacing_z=spacing_z,\n",
    "                 solvent=prototypes[\"tip3p\"], \n",
    "                 solvent_per_lipid=waters_per_lipid,\n",
    "                 solvent_density=water_density, \n",
    "                 solvent_mass=water_mass,\n",
    "                 tilt=tilt_angle,\n",
    "                 random_seed=2019,\n",
    "                 mirror=False)\n",
    "\n",
    "# Create box with 0.1 nm boundary\n",
    "box = mb.Box(mins=[0, 0, 0],\n",
    "             maxs=(system.solvent_components.boundingbox.lengths + np.array([0.05, 0.05, 0.05])))\n",
    "\n",
    "# Translate to box center\n",
    "system.translate_to(box.lengths * 0.5)\n",
    "\n",
    "# Convert to mdTraj Trajectory and save to disk\n",
    "configuration = system.to_trajectory(residues=[\"cer\", \"chol\", \"ffa\", \"tip3p\"], box=box)\n",
    "configuration.save(\"start.gro\")"
   ]
  },
  {
   "cell_type": "markdown",
   "metadata": {},
   "source": [
    "A render of the system can visually inspected using the `py3dmol` renderer built into `mBuild` in order to validate the configuration."
   ]
  },
  {
   "cell_type": "code",
   "execution_count": null,
   "metadata": {},
   "outputs": [],
   "source": [
    "# visualize\n",
    "system.visualize()"
   ]
  },
  {
   "cell_type": "markdown",
   "metadata": {},
   "source": [
    "When finished, exit this notebook window and return to the main notebook."
   ]
  },
  {
   "cell_type": "code",
   "execution_count": null,
   "metadata": {},
   "outputs": [],
   "source": []
  }
 ],
 "metadata": {
  "kernelspec": {
   "display_name": "Python 3",
   "language": "python",
   "name": "python3"
  },
  "language_info": {
   "codemirror_mode": {
    "name": "ipython",
    "version": 3
   },
   "file_extension": ".py",
   "mimetype": "text/x-python",
   "name": "python",
   "nbconvert_exporter": "python",
   "pygments_lexer": "ipython3",
   "version": "3.7.3"
  }
 },
 "nbformat": 4,
 "nbformat_minor": 2
}
