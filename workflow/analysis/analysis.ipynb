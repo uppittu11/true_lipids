{
 "cells": [
  {
   "cell_type": "markdown",
   "metadata": {},
   "source": [
    "# Section III: Analysis\n",
    "\n",
    "In this notebook the trajectory produced in the simulation section is analyzed. The following parameters are calculated: \n",
    "- Area per lipid (APL)\n",
    "- Tilt Angle\n",
    "- Nematic Order Parameter (S2)\n",
    "- Neutron Scattering Length Density (NSLD)\n",
    "- Bilayer Height"
   ]
  },
  {
   "cell_type": "markdown",
   "metadata": {},
   "source": [
    "## Area Per Lipid\n",
    "\n",
    "The area per lipid is calculated as the cross sectional area divided by the number of lipids for each leaflet."
   ]
  },
  {
   "cell_type": "code",
   "execution_count": 1,
   "metadata": {},
   "outputs": [],
   "source": [
    "# APL"
   ]
  },
  {
   "cell_type": "markdown",
   "metadata": {},
   "source": [
    "## Tilt Angle\n",
    "\n",
    "The tilt angle is the angle between the lipid tail director and the bilayer normal. See [Moore, et al, 2018](https://doi.org/10.1016/j.bpj.2017.10.031) for more details."
   ]
  },
  {
   "cell_type": "code",
   "execution_count": 2,
   "metadata": {},
   "outputs": [],
   "source": [
    "# Tilt"
   ]
  },
  {
   "cell_type": "markdown",
   "metadata": {},
   "source": [
    "## Nematic Order Parameter\n",
    "\n",
    "The nematic order parameter is calculated by determining the largest eigenvalue of the Q-tensor. See [Moore, et al, 2018](https://doi.org/10.1016/j.bpj.2017.10.031) for more details."
   ]
  },
  {
   "cell_type": "code",
   "execution_count": 3,
   "metadata": {},
   "outputs": [],
   "source": [
    "# S2"
   ]
  },
  {
   "cell_type": "markdown",
   "metadata": {},
   "source": [
    "## Neutron Scattering Length Density\n",
    "\n",
    "The NSLD is calculated by plotting a z-profile histogram of the system weighted by the scattering length. This is normalized by the volume of the slice. "
   ]
  },
  {
   "cell_type": "code",
   "execution_count": null,
   "metadata": {},
   "outputs": [],
   "source": []
  }
 ],
 "metadata": {
  "kernelspec": {
   "display_name": "Python 3",
   "language": "python",
   "name": "python3"
  },
  "language_info": {
   "codemirror_mode": {
    "name": "ipython",
    "version": 3
   },
   "file_extension": ".py",
   "mimetype": "text/x-python",
   "name": "python",
   "nbconvert_exporter": "python",
   "pygments_lexer": "ipython3",
   "version": "3.7.3"
  }
 },
 "nbformat": 4,
 "nbformat_minor": 2
}
