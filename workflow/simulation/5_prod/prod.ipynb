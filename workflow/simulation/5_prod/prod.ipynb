{
 "cells": [
  {
   "cell_type": "markdown",
   "metadata": {},
   "source": [
    "# Stage 5: Production\n",
    "\n",
    "By this stage, the system has been fully equilibrated. In this final step, the system is run for 20 ns in order to generate an ensemble of equilibrated frames for analysis. The see the input script (`nvt.mdp`) for details."
   ]
  },
  {
   "cell_type": "code",
   "execution_count": null,
   "metadata": {},
   "outputs": [],
   "source": [
    "!gmx grompp -f prod.mdp -c ../4_anneal/confout.gro -t ../4_anneal/state.cpt -p ../system.top -n ../index.ndx -o run.tpr -maxwarn 2"
   ]
  },
  {
   "cell_type": "code",
   "execution_count": null,
   "metadata": {},
   "outputs": [],
   "source": [
    "!gmx mdrun -s run.tpr"
   ]
  },
  {
   "cell_type": "markdown",
   "metadata": {},
   "source": [
    "The coordinates of the final trajectory need to be wrapped, such that molecules are made whole. The `gmx trjconv` command is used to generate the wrapped production trajectory. "
   ]
  },
  {
   "cell_type": "code",
   "execution_count": null,
   "metadata": {},
   "outputs": [],
   "source": [
    "!echo 0 | gmx trjconv -f traj_comp.xtc -s run.tpr -pbc whole -o traj_wrapped.xtc"
   ]
  }
 ],
 "metadata": {
  "kernelspec": {
   "display_name": "Python 3",
   "language": "python",
   "name": "python3"
  },
  "language_info": {
   "codemirror_mode": {
    "name": "ipython",
    "version": 3
   },
   "file_extension": ".py",
   "mimetype": "text/x-python",
   "name": "python",
   "nbconvert_exporter": "python",
   "pygments_lexer": "ipython3",
   "version": "3.7.3"
  }
 },
 "nbformat": 4,
 "nbformat_minor": 2
}
