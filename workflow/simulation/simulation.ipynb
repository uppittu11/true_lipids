{
 "cells": [
  {
   "cell_type": "markdown",
   "metadata": {},
   "source": [
    "# Section II: Simulating using GROMACS\n",
    "\n",
    "The system built in Section I is simulated using the GROMACS software package. The single precision 2018.5 version of GROMACS was used in this example. This package can be downloaded here `{insert URL}`."
   ]
  },
  {
   "cell_type": "markdown",
   "metadata": {},
   "source": [
    "First the configuration is copied from the building directory and an index file is created for this system. An additional group for lipid molecules is created and saved in this index file."
   ]
  },
  {
   "cell_type": "code",
   "execution_count": 1,
   "metadata": {},
   "outputs": [
    {
     "name": "stdout",
     "output_type": "stream",
     "text": [
      "                  :-) GROMACS - gmx make_ndx, 2018-rc1-dev (-:\r\n",
      "\r\n",
      "                            GROMACS is written by:\r\n",
      "     Emile Apol      Rossen Apostolov  Herman J.C. Berendsen    Par Bjelkmar   \r\n",
      " Aldert van Buuren   Rudi van Drunen     Anton Feenstra    Gerrit Groenhof  \r\n",
      " Christoph Junghans   Anca Hamuraru    Vincent Hindriksen Dimitrios Karkoulis\r\n",
      "    Peter Kasson        Jiri Kraus      Carsten Kutzner      Per Larsson    \r\n",
      "  Justin A. Lemkul    Viveca Lindahl    Magnus Lundborg   Pieter Meulenhoff \r\n",
      "   Erik Marklund      Teemu Murtola       Szilard Pall       Sander Pronk   \r\n",
      "   Roland Schulz     Alexey Shvetsov     Michael Shirts     Alfons Sijbers  \r\n",
      "   Peter Tieleman    Teemu Virolainen  Christian Wennberg    Maarten Wolf   \r\n",
      "                           and the project leaders:\r\n",
      "        Mark Abraham, Berk Hess, Erik Lindahl, and David van der Spoel\r\n",
      "\r\n",
      "Copyright (c) 1991-2000, University of Groningen, The Netherlands.\r\n",
      "Copyright (c) 2001-2017, The GROMACS development team at\r\n",
      "Uppsala University, Stockholm University and\r\n",
      "the Royal Institute of Technology, Sweden.\r\n",
      "check out http://www.gromacs.org for more information.\r\n",
      "\r\n",
      "GROMACS is free software; you can redistribute it and/or modify it\r\n",
      "under the terms of the GNU Lesser General Public License\r\n",
      "as published by the Free Software Foundation; either version 2.1\r\n",
      "of the License, or (at your option) any later version.\r\n",
      "\r\n",
      "GROMACS:      gmx make_ndx, version 2018-rc1-dev\r\n",
      "Executable:   /Users/parashara/Documents/devel/src/gromacs/install/bin/gmx\r\n",
      "Data prefix:  /Users/parashara/Documents/devel/src/gromacs/install\r\n",
      "Working dir:  /Users/parashara/Documents/devel/git/BioSimWorkflow/workflow/simulation\r\n",
      "Command line:\r\n",
      "  gmx make_ndx -f start.gro\r\n",
      "\r\n",
      "\r\n",
      "Reading structure file\r\n",
      "Going to read 0 old index file(s)\r\n",
      "Analysing residue names:\r\n",
      "There are:  2952      Other residues\r\n",
      "Analysing residues not classified as Protein/DNA/RNA/Water and splitting into groups...\r\n",
      "\r\n",
      "  0 System              : 15288 atoms\r\n",
      "  1 Other               : 15288 atoms\r\n",
      "  2 cer                 :  3096 atoms\r\n",
      "  3 chol                :  1776 atoms\r\n",
      "  4 ffa                 :  1776 atoms\r\n",
      "  5 tip3p               :  8640 atoms\r\n",
      "\r\n",
      " nr : group      '!': not  'name' nr name   'splitch' nr    Enter: list groups\r\n",
      " 'a': atom       '&': and  'del' nr         'splitres' nr   'l': list residues\r\n",
      " 't': atom type  '|': or   'keep' nr        'splitat' nr    'h': help\r\n",
      " 'r': residue              'res' nr         'chain' char\r\n",
      " \"name\": group             'case': case sensitive           'q': save and quit\r\n",
      " 'ri': residue index\r\n",
      "\r\n",
      "> \r\n",
      "Copied index group 2 'cer'\r\n",
      "Copied index group 3 'chol'\r\n",
      "Merged two groups with OR: 3096 1776 -> 4872\r\n",
      "Copied index group 4 'ffa'\r\n",
      "Merged two groups with OR: 4872 1776 -> 6648\r\n",
      "\r\n",
      "  6 cer_chol_ffa        :  6648 atoms\r\n",
      "\r\n",
      "> \r\n",
      "\r\n",
      "> \r\n",
      "\r\n",
      "Back Off! I just backed up index.ndx to ./#index.ndx.1#\r\n",
      "\r\n",
      "GROMACS reminds you: \"What's the point, yo, what's the spread?\" (Red Hot Chili Peppers)\r\n",
      "\r\n"
     ]
    }
   ],
   "source": [
    "!cp ../building/start.gro .\n",
    "!cat ndx_input\n",
    "!gmx make_ndx -f start.gro < ndx_input"
   ]
  },
  {
   "cell_type": "markdown",
   "metadata": {},
   "source": [
    "A GROMACS topology file (`system.top`) is created for the system. The number of each molecule corresponds to the values used in thie example, but will need to be changed accordngly in case a different composition, water content, or system size is used."
   ]
  },
  {
   "cell_type": "code",
   "execution_count": 2,
   "metadata": {},
   "outputs": [],
   "source": [
    "with open(\"system.top\", \"w\") as f:\n",
    "    f.write('#include \"./forcefield/forcefield.itp\"\\n\\n')\n",
    "    f.write(\"[ system ]\\n\")\n",
    "    f.write(\"BioSimWorkflow\\n\\n\")\n",
    "    f.write(\"[ molecules ]\\n\")\n",
    "    f.write(\"cer 24\\n\")\n",
    "    f.write(\"chol 24\\n\")\n",
    "    f.write(\"ffa 24\\n\")\n",
    "    f.write(\"tip3p 2880\\n\")"
   ]
  },
  {
   "cell_type": "markdown",
   "metadata": {},
   "source": [
    "Each step for simulating the system is in a notebook below. Execute the following stages sequentially. "
   ]
  },
  {
   "cell_type": "markdown",
   "metadata": {},
   "source": [
    "[Stage 1: Energy Minimization](./1_em/em.ipynb)\n",
    "\n",
    "[Stage 2: Thermostat Equilibration (NVT)](./2_nvt/nvt.ipynb)\n",
    "\n",
    "[Stage 3: Barostat Equilibration (NPT)](./3_npt/npt.ipynb)\n",
    "\n",
    "[Stage 4: Annealing (NPT)](./4_anneal/anneal.ipynb)\n",
    "\n",
    "[Stage 5: Production (NPT)](./5_prod/prod.ipynb)"
   ]
  },
  {
   "cell_type": "code",
   "execution_count": null,
   "metadata": {},
   "outputs": [],
   "source": []
  }
 ],
 "metadata": {
  "kernelspec": {
   "display_name": "Python 3",
   "language": "python",
   "name": "python3"
  },
  "language_info": {
   "codemirror_mode": {
    "name": "ipython",
    "version": 3
   },
   "file_extension": ".py",
   "mimetype": "text/x-python",
   "name": "python",
   "nbconvert_exporter": "python",
   "pygments_lexer": "ipython3",
   "version": "3.7.3"
  }
 },
 "nbformat": 4,
 "nbformat_minor": 2
}
