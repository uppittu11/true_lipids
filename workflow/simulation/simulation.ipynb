{
 "cells": [
  {
   "cell_type": "markdown",
   "metadata": {},
   "source": [
    "# Section II: Simulating using GROMACS\n",
    "\n",
    "The system built in Section I is simulated using the GROMACS software package. The single precision 2018.5 version of GROMACS was used in this example. This package can be downloaded [here](http://manual.gromacs.org/documentation/2018.5/download.html)."
   ]
  },
  {
   "cell_type": "markdown",
   "metadata": {},
   "source": [
    "First the configuration is copied from the building directory and an index file is created for this system. An additional group for lipid molecules is created and saved in this index file."
   ]
  },
  {
   "cell_type": "code",
   "execution_count": null,
   "metadata": {},
   "outputs": [],
   "source": [
    "!cp ../building/start.gro .\n",
    "\n",
    "# See the contents of ndx_input\n",
    "!cat ndx_input\n",
    "\n",
    "# generate an ndx file using ndx_input as the command-line user inputs to the program\n",
    "!gmx make_ndx -f start.gro < ndx_input"
   ]
  },
  {
   "cell_type": "markdown",
   "metadata": {},
   "source": [
    "A GROMACS topology file (`system.top`) is created for the system. The number of each molecule corresponds to the values used in thie example, but will need to be changed accordngly in case a different composition, water content, or system size is used."
   ]
  },
  {
   "cell_type": "code",
   "execution_count": null,
   "metadata": {},
   "outputs": [],
   "source": [
    "with open(\"system.top\", \"w\") as f:\n",
    "    f.write('#include \"./forcefield/forcefield.itp\"\\n\\n')\n",
    "    f.write(\"[ system ]\\n\")\n",
    "    f.write(\"BioSimWorkflow\\n\\n\")\n",
    "    f.write(\"[ molecules ]\\n\")\n",
    "    f.write(\"cer 12\\n\")\n",
    "    f.write(\"chol 12\\n\")\n",
    "    f.write(\"ffa 12\\n\")\n",
    "    f.write(\"cer 12\\n\")\n",
    "    f.write(\"chol 12\\n\")\n",
    "    f.write(\"ffa 12\\n\")\n",
    "    f.write(\"tip3p 2880\\n\")"
   ]
  },
  {
   "cell_type": "markdown",
   "metadata": {},
   "source": [
    "Each step for simulating the system is in a notebook below. Execute the following stages sequentially. "
   ]
  },
  {
   "cell_type": "markdown",
   "metadata": {},
   "source": [
    "[Stage 1: Energy Minimization](./1_em/em.ipynb)\n",
    "\n",
    "[Stage 2: Thermostat Equilibration (NVT)](./2_nvt/nvt.ipynb)\n",
    "\n",
    "[Stage 3: Barostat Equilibration (NPT)](./3_npt/npt.ipynb)\n",
    "\n",
    "[Stage 4: Annealing (NPT)](./4_anneal/anneal.ipynb)\n",
    "\n",
    "[Stage 5: Production (NPT)](./5_prod/prod.ipynb)"
   ]
  },
  {
   "cell_type": "code",
   "execution_count": null,
   "metadata": {},
   "outputs": [],
   "source": []
  }
 ],
 "metadata": {
  "kernelspec": {
   "display_name": "Python 3",
   "language": "python",
   "name": "python3"
  },
  "language_info": {
   "codemirror_mode": {
    "name": "ipython",
    "version": 3
   },
   "file_extension": ".py",
   "mimetype": "text/x-python",
   "name": "python",
   "nbconvert_exporter": "python",
   "pygments_lexer": "ipython3",
   "version": "3.7.3"
  }
 },
 "nbformat": 4,
 "nbformat_minor": 2
}
