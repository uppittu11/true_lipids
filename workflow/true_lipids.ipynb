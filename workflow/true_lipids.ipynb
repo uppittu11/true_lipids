{
 "cells": [
  {
   "cell_type": "markdown",
   "metadata": {},
   "source": [
    "# TRUE Lipid Bilayer Workflow\n",
    "### An example workflow for conducting TRUE simulations.\n",
    "\n",
    "In this workflow a lipid bilayer simulation is set up, run, and analyzed in a self-contained repository. \n",
    "\n",
    "The barrier function of the skin is localized to the lipid lamella of its outermost layer, the stratum corneum. These lipid layers in the stratum corneum are composed of a roughly equimolar ratio of ceramides (CER), cholesterol (CHOL), and free fatty acids (FFA). Here we will set up, simulate, and analyze a preassembled bilayer with this composition.\n",
    "\n",
    "This notebook is intended to exemplify a TRUE simulation, where TRUE stands for Transparent, Reproducible, Usable By Others, and Extensible. The. notebooks in this repository contain the commands used to produce identical trajectories and analysis results as reported in the paper.\n",
    "\n"
   ]
  },
  {
   "cell_type": "markdown",
   "metadata": {},
   "source": [
    "#### Execute the following sections sequentially:\n",
    "\n",
    "[Section I: Building the Initial Configuration](./building/building.ipynb)\n",
    "\n",
    "[Section II: Simulating Using GROMACS](./simulation/simulation.ipynb)\n",
    "\n",
    "[Section III: Analysis](./analysis/analysis.ipynb)"
   ]
  },
  {
   "cell_type": "code",
   "execution_count": null,
   "metadata": {},
   "outputs": [],
   "source": []
  }
 ],
 "metadata": {
  "kernelspec": {
   "display_name": "Python 3",
   "language": "python",
   "name": "python3"
  },
  "language_info": {
   "codemirror_mode": {
    "name": "ipython",
    "version": 3
   },
   "file_extension": ".py",
   "mimetype": "text/x-python",
   "name": "python",
   "nbconvert_exporter": "python",
   "pygments_lexer": "ipython3",
   "version": "3.7.3"
  }
 },
 "nbformat": 4,
 "nbformat_minor": 2
}
